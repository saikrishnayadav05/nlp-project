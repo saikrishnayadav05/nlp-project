{
  "nbformat": 4,
  "nbformat_minor": 0,
  "metadata": {
    "colab": {
      "provenance": []
    },
    "kernelspec": {
      "name": "python3",
      "display_name": "Python 3"
    },
    "language_info": {
      "name": "python"
    }
  },
  "cells": [
    {
      "cell_type": "markdown",
      "source": [
        "# **New Line(\\n)**"
      ],
      "metadata": {
        "id": "clhDxSdHRqWb"
      }
    },
    {
      "cell_type": "code",
      "execution_count": 1,
      "metadata": {
        "colab": {
          "base_uri": "https://localhost:8080/"
        },
        "id": "1_lA9sZIOevx",
        "outputId": "5dc2c1d1-fbbd-4b29-c46e-ca16123e223d"
      },
      "outputs": [
        {
          "output_type": "stream",
          "name": "stdout",
          "text": [
            "I am going to college for learning nlp\n"
          ]
        }
      ],
      "source": [
        "print('I am going to college for learning nlp')"
      ]
    },
    {
      "cell_type": "code",
      "source": [
        "print('I am going to college for \\nlearning nlp')"
      ],
      "metadata": {
        "colab": {
          "base_uri": "https://localhost:8080/"
        },
        "id": "ylm_nju1Q4ma",
        "outputId": "caa13dd1-80df-4623-9ba8-fc451695f13e"
      },
      "execution_count": 4,
      "outputs": [
        {
          "output_type": "stream",
          "name": "stdout",
          "text": [
            "I am going to college for \n",
            "learning nlp\n"
          ]
        }
      ]
    },
    {
      "cell_type": "code",
      "source": [
        "print('I am going \\nto college for \\nlearning nlp')"
      ],
      "metadata": {
        "colab": {
          "base_uri": "https://localhost:8080/"
        },
        "id": "nEvlouVRRBJY",
        "outputId": "34db2951-b85a-4d46-ede0-3d3a79766632"
      },
      "execution_count": 6,
      "outputs": [
        {
          "output_type": "stream",
          "name": "stdout",
          "text": [
            "I am going \n",
            "to college for \n",
            "learning nlp\n"
          ]
        }
      ]
    },
    {
      "cell_type": "markdown",
      "source": [
        "# **Tab Space(\\t)**"
      ],
      "metadata": {
        "id": "02xXHDsfRw_8"
      }
    },
    {
      "cell_type": "code",
      "source": [
        "print('I am going \\nto college for \\tlearning nlp')"
      ],
      "metadata": {
        "colab": {
          "base_uri": "https://localhost:8080/"
        },
        "id": "1liNB7bLRDBl",
        "outputId": "e8bc3de6-4ddc-4012-b7bf-f93266e94d7d"
      },
      "execution_count": 7,
      "outputs": [
        {
          "output_type": "stream",
          "name": "stdout",
          "text": [
            "I am going \n",
            "to college for \tlearning nlp\n"
          ]
        }
      ]
    },
    {
      "cell_type": "markdown",
      "source": [
        "# **Carriage Return(\\r)**"
      ],
      "metadata": {
        "id": "dLjoCOU2SCn3"
      }
    },
    {
      "cell_type": "code",
      "source": [
        "print('I am going to college for \\rlearning nlp')"
      ],
      "metadata": {
        "colab": {
          "base_uri": "https://localhost:8080/"
        },
        "id": "QtD9Il5QRpP3",
        "outputId": "a732c806-8cfd-43c1-a615-b95be99a0384"
      },
      "execution_count": 8,
      "outputs": [
        {
          "output_type": "stream",
          "name": "stdout",
          "text": [
            "I am going to college for \rlearning nlp\n"
          ]
        }
      ]
    },
    {
      "cell_type": "markdown",
      "source": [
        "# **Regular Expressions**"
      ],
      "metadata": {
        "id": "GSxKX8TYTOiY"
      }
    },
    {
      "cell_type": "code",
      "source": [
        "import re"
      ],
      "metadata": {
        "id": "RM1AKbEESHIV"
      },
      "execution_count": 9,
      "outputs": []
    },
    {
      "cell_type": "markdown",
      "source": [
        "# re.match()"
      ],
      "metadata": {
        "id": "lc09-TbTTj0d"
      }
    },
    {
      "cell_type": "code",
      "source": [
        "string = \"007 james bond wants to learn the python\"\n",
        "pattern =r'\\d+'\n",
        "matching = re.match(pattern,string)\n",
        "matching.group()"
      ],
      "metadata": {
        "colab": {
          "base_uri": "https://localhost:8080/",
          "height": 35
        },
        "id": "Mhfw1cgaTVd6",
        "outputId": "af026faf-24be-47f0-f1a9-7d4e25ff1f88"
      },
      "execution_count": 15,
      "outputs": [
        {
          "output_type": "execute_result",
          "data": {
            "text/plain": [
              "'007'"
            ],
            "application/vnd.google.colaboratory.intrinsic+json": {
              "type": "string"
            }
          },
          "metadata": {},
          "execution_count": 15
        }
      ]
    },
    {
      "cell_type": "markdown",
      "source": [
        "# re.search()"
      ],
      "metadata": {
        "id": "XcA5up3IUhwm"
      }
    },
    {
      "cell_type": "code",
      "source": [
        "import re\n",
        "string = \"james bond 007 wants 008 to learn the python\"\n",
        "pattern =r'\\d+'\n",
        "matching = re.search(pattern,string)\n",
        "matching.group()"
      ],
      "metadata": {
        "colab": {
          "base_uri": "https://localhost:8080/",
          "height": 35
        },
        "id": "sMN3xXk8UfkO",
        "outputId": "05242812-3eac-444b-a057-776f73ddd036"
      },
      "execution_count": 20,
      "outputs": [
        {
          "output_type": "execute_result",
          "data": {
            "text/plain": [
              "'007'"
            ],
            "application/vnd.google.colaboratory.intrinsic+json": {
              "type": "string"
            }
          },
          "metadata": {},
          "execution_count": 20
        }
      ]
    },
    {
      "cell_type": "markdown",
      "source": [
        "# re.findall()"
      ],
      "metadata": {
        "id": "6YeGAyRLVtjR"
      }
    },
    {
      "cell_type": "code",
      "source": [
        "import re\n",
        "string = \"james bond 007 wants 008 to learn the python\"\n",
        "pattern =r'\\d+'\n",
        "matching = re.findall(pattern,string)\n",
        "matching"
      ],
      "metadata": {
        "colab": {
          "base_uri": "https://localhost:8080/"
        },
        "id": "TcRBZGgLU32D",
        "outputId": "b2b5f113-69b8-4b2b-df69-9c27f0cb0be7"
      },
      "execution_count": 21,
      "outputs": [
        {
          "output_type": "execute_result",
          "data": {
            "text/plain": [
              "['007', '008']"
            ]
          },
          "metadata": {},
          "execution_count": 21
        }
      ]
    },
    {
      "cell_type": "code",
      "source": [
        "import re\n",
        "string = \"james bond 007 wants 008 to learn the python\"\n",
        "pattern =r'\\w+'\n",
        "matching = re.findall(pattern,string)\n",
        "matching"
      ],
      "metadata": {
        "colab": {
          "base_uri": "https://localhost:8080/"
        },
        "id": "ZjNdro5vV33v",
        "outputId": "51209ba7-6abe-40eb-acdd-cf8f65379e9f"
      },
      "execution_count": 22,
      "outputs": [
        {
          "output_type": "execute_result",
          "data": {
            "text/plain": [
              "['james', 'bond', '007', 'wants', '008', 'to', 'learn', 'the', 'python']"
            ]
          },
          "metadata": {},
          "execution_count": 22
        }
      ]
    },
    {
      "cell_type": "markdown",
      "source": [
        "# re.sub()"
      ],
      "metadata": {
        "id": "F2l2bEM3ZjHH"
      }
    },
    {
      "cell_type": "code",
      "source": [
        "import re\n",
        "string = \"james bond 007 wants 008 to learn the python\"\n",
        "pattern =r'\\d'\n",
        "matching = re.sub(pattern,'#',string)\n",
        "matching"
      ],
      "metadata": {
        "colab": {
          "base_uri": "https://localhost:8080/",
          "height": 35
        },
        "id": "66MP1sAzWmga",
        "outputId": "df81b600-5fe6-4799-9305-7f5065b9fc52"
      },
      "execution_count": 33,
      "outputs": [
        {
          "output_type": "execute_result",
          "data": {
            "text/plain": [
              "'james bond ### wants ### to learn the python'"
            ],
            "application/vnd.google.colaboratory.intrinsic+json": {
              "type": "string"
            }
          },
          "metadata": {},
          "execution_count": 33
        }
      ]
    },
    {
      "cell_type": "code",
      "source": [
        "# Test case\n",
        "text = \"\"\"\n",
        "Hello world! Contact us at info@example.com or support123@company.org. Follow us on social media: #AI #MachineLearning.\n",
        "Visit <a href=\"http://example.com\">our website</a> for more details. This is a test with number 1234.\n",
        "\"\"\""
      ],
      "metadata": {
        "id": "39rFmN4VXNIy"
      },
      "execution_count": 34,
      "outputs": []
    },
    {
      "cell_type": "code",
      "source": [
        "pattern=r'[a-zA-z0-9._%+-]+@[a-zA-z0-9.-]+\\.[a-zA-Z]{2,}'\n",
        "emails = re.findall(pattern,text)\n",
        "print(\"Emails are \",emails)"
      ],
      "metadata": {
        "colab": {
          "base_uri": "https://localhost:8080/"
        },
        "id": "SEIe4wXVYGt7",
        "outputId": "e5831ebe-89fb-4cbf-ac8d-5ea282ba5409"
      },
      "execution_count": 39,
      "outputs": [
        {
          "output_type": "stream",
          "name": "stdout",
          "text": [
            "Emails are  ['info@example.com', 'support123@company.org']\n"
          ]
        }
      ]
    },
    {
      "cell_type": "code",
      "source": [
        "hash_tags = re.findall(r'#\\w+',text)\n",
        "print(\"Hash tags are \",hash_tags)"
      ],
      "metadata": {
        "colab": {
          "base_uri": "https://localhost:8080/"
        },
        "id": "JnEkDjz8YGmb",
        "outputId": "d66e0dfd-8b2f-4ce2-eea8-45133453d646"
      },
      "execution_count": 44,
      "outputs": [
        {
          "output_type": "stream",
          "name": "stdout",
          "text": [
            "Hash tags are  ['#AI', '#MachineLearning']\n"
          ]
        }
      ]
    }
  ]
}