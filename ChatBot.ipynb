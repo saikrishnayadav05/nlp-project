{
  "nbformat": 4,
  "nbformat_minor": 0,
  "metadata": {
    "colab": {
      "provenance": []
    },
    "kernelspec": {
      "name": "python3",
      "display_name": "Python 3"
    },
    "language_info": {
      "name": "python"
    }
  },
  "cells": [
    {
      "cell_type": "code",
      "execution_count": 1,
      "metadata": {
        "colab": {
          "base_uri": "https://localhost:8080/"
        },
        "id": "AimZZEX1Is5K",
        "outputId": "f20b9868-c6e7-42d4-a507-7afa29b9e679"
      },
      "outputs": [
        {
          "name": "stdout",
          "output_type": "stream",
          "text": [
            "test Sentence\n"
          ]
        }
      ],
      "source": [
        "sentence = input()"
      ]
    },
    {
      "cell_type": "code",
      "source": [
        "exit_words = ['esc','quit','stop','exit']"
      ],
      "metadata": {
        "id": "lG_ZWoHOI5Zj"
      },
      "execution_count": 2,
      "outputs": []
    },
    {
      "cell_type": "code",
      "source": [
        "def lower_case(sent):\n",
        "  return sent.lower()"
      ],
      "metadata": {
        "id": "c5yZujl_I_3e"
      },
      "execution_count": 3,
      "outputs": []
    },
    {
      "cell_type": "code",
      "source": [
        "x=lower_case(sentence)"
      ],
      "metadata": {
        "id": "VAdJugFTKaIO"
      },
      "execution_count": 21,
      "outputs": []
    },
    {
      "cell_type": "code",
      "source": [
        "x"
      ],
      "metadata": {
        "colab": {
          "base_uri": "https://localhost:8080/",
          "height": 35
        },
        "id": "MIZbpFOoKzl4",
        "outputId": "cde7b8a2-1d3f-4b6c-d465-19dd9eb0b697"
      },
      "execution_count": 22,
      "outputs": [
        {
          "output_type": "execute_result",
          "data": {
            "text/plain": [
              "'test sentence'"
            ],
            "application/vnd.google.colaboratory.intrinsic+json": {
              "type": "string"
            }
          },
          "metadata": {},
          "execution_count": 22
        }
      ]
    },
    {
      "cell_type": "code",
      "source": [
        "def upper_case(sent):\n",
        "  return sent.upper()"
      ],
      "metadata": {
        "id": "sc-8O0BSK2PO"
      },
      "execution_count": 23,
      "outputs": []
    },
    {
      "cell_type": "code",
      "source": [
        "print(upper_case(\"dhajdaksjbfkj\"))"
      ],
      "metadata": {
        "colab": {
          "base_uri": "https://localhost:8080/"
        },
        "id": "ndlcH7oTK2Ho",
        "outputId": "4608d23d-2376-4f44-bb82-8b1070e1ec1b"
      },
      "execution_count": 24,
      "outputs": [
        {
          "output_type": "stream",
          "name": "stdout",
          "text": [
            "DHAJDAKSJBFKJ\n"
          ]
        }
      ]
    },
    {
      "cell_type": "code",
      "source": [
        "def swap(sent):\n",
        "  return sent.swapcase()"
      ],
      "metadata": {
        "id": "xXa7MJGdPh92"
      },
      "execution_count": 29,
      "outputs": []
    },
    {
      "cell_type": "code",
      "source": [
        "def title(sent):\n",
        "  return sent.title()"
      ],
      "metadata": {
        "id": "ZBZOs9BeP8Hy"
      },
      "execution_count": 26,
      "outputs": []
    },
    {
      "cell_type": "code",
      "source": [
        "while x not in exit_words:\n",
        "  choice = int(input())\n",
        "  if choice ==1:\n",
        "    print(lower_case(x))\n",
        "  elif choice ==2:\n",
        "    print(upper_case(x))\n",
        "  elif choice ==3:\n",
        "    print(swap(x))\n",
        "  elif choice ==4:\n",
        "    print(title(x))\n",
        "  else:\n",
        "    print(\"invalid choice\")\n",
        "    x=input()\n"
      ],
      "metadata": {
        "colab": {
          "base_uri": "https://localhost:8080/"
        },
        "id": "f5UsvedEL5u5",
        "outputId": "d66cd8fe-b4fb-4040-eef6-999fd475438d"
      },
      "execution_count": 30,
      "outputs": [
        {
          "name": "stdout",
          "output_type": "stream",
          "text": [
            "1\n",
            "test sentence\n",
            "2\n",
            "TEST SENTENCE\n",
            "3\n",
            "TEST SENTENCE\n",
            "4\n",
            "Test Sentence\n",
            "5\n",
            "invalid choice\n",
            "exit\n"
          ]
        }
      ]
    },
    {
      "cell_type": "code",
      "source": [
        "dir(str)"
      ],
      "metadata": {
        "colab": {
          "base_uri": "https://localhost:8080/"
        },
        "id": "BXudcEfEK2FK",
        "outputId": "29485fcc-6e38-4d46-c580-60618c5c3be9"
      },
      "execution_count": 31,
      "outputs": [
        {
          "output_type": "execute_result",
          "data": {
            "text/plain": [
              "['__add__',\n",
              " '__class__',\n",
              " '__contains__',\n",
              " '__delattr__',\n",
              " '__dir__',\n",
              " '__doc__',\n",
              " '__eq__',\n",
              " '__format__',\n",
              " '__ge__',\n",
              " '__getattribute__',\n",
              " '__getitem__',\n",
              " '__getnewargs__',\n",
              " '__getstate__',\n",
              " '__gt__',\n",
              " '__hash__',\n",
              " '__init__',\n",
              " '__init_subclass__',\n",
              " '__iter__',\n",
              " '__le__',\n",
              " '__len__',\n",
              " '__lt__',\n",
              " '__mod__',\n",
              " '__mul__',\n",
              " '__ne__',\n",
              " '__new__',\n",
              " '__reduce__',\n",
              " '__reduce_ex__',\n",
              " '__repr__',\n",
              " '__rmod__',\n",
              " '__rmul__',\n",
              " '__setattr__',\n",
              " '__sizeof__',\n",
              " '__str__',\n",
              " '__subclasshook__',\n",
              " 'capitalize',\n",
              " 'casefold',\n",
              " 'center',\n",
              " 'count',\n",
              " 'encode',\n",
              " 'endswith',\n",
              " 'expandtabs',\n",
              " 'find',\n",
              " 'format',\n",
              " 'format_map',\n",
              " 'index',\n",
              " 'isalnum',\n",
              " 'isalpha',\n",
              " 'isascii',\n",
              " 'isdecimal',\n",
              " 'isdigit',\n",
              " 'isidentifier',\n",
              " 'islower',\n",
              " 'isnumeric',\n",
              " 'isprintable',\n",
              " 'isspace',\n",
              " 'istitle',\n",
              " 'isupper',\n",
              " 'join',\n",
              " 'ljust',\n",
              " 'lower',\n",
              " 'lstrip',\n",
              " 'maketrans',\n",
              " 'partition',\n",
              " 'removeprefix',\n",
              " 'removesuffix',\n",
              " 'replace',\n",
              " 'rfind',\n",
              " 'rindex',\n",
              " 'rjust',\n",
              " 'rpartition',\n",
              " 'rsplit',\n",
              " 'rstrip',\n",
              " 'split',\n",
              " 'splitlines',\n",
              " 'startswith',\n",
              " 'strip',\n",
              " 'swapcase',\n",
              " 'title',\n",
              " 'translate',\n",
              " 'upper',\n",
              " 'zfill']"
            ]
          },
          "metadata": {},
          "execution_count": 31
        }
      ]
    },
    {
      "cell_type": "code",
      "source": [],
      "metadata": {
        "id": "PuENhDQ0K1-A"
      },
      "execution_count": null,
      "outputs": []
    }
  ]
}