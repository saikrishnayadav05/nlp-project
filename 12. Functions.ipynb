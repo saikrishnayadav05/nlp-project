{
 "cells": [
  {
   "cell_type": "markdown",
   "metadata": {},
   "source": [
    "# Functions"
   ]
  },
  {
   "cell_type": "code",
   "execution_count": 1,
   "metadata": {},
   "outputs": [
    {
     "ename": "SyntaxError",
     "evalue": "invalid syntax (2729432118.py, line 1)",
     "output_type": "error",
     "traceback": [
      "\u001b[1;36m  Input \u001b[1;32mIn [1]\u001b[1;36m\u001b[0m\n\u001b[1;33m    A function is a block of code which only runs when it is called.\u001b[0m\n\u001b[1;37m      ^\u001b[0m\n\u001b[1;31mSyntaxError\u001b[0m\u001b[1;31m:\u001b[0m invalid syntax\n"
     ]
    }
   ],
   "source": [
    "A function is a block of code which only runs when it is called.\n",
    "\n",
    "You can pass data, known as parameters, into a function.\n",
    "\n",
    "A function can return data as a result"
   ]
  },
  {
   "cell_type": "markdown",
   "metadata": {},
   "source": [
    "# For, If,\n",
    "\n",
    "Functions in Python. \n",
    "A function is a set of statements that take inputs, do some specific computation and produces output. These functions are called user defined function"
   ]
  },
  {
   "cell_type": "raw",
   "metadata": {},
   "source": [
    "Rules:\n",
    "keyword \"def\" marks the start of function header\n",
    "\n",
    "Parameters (arguments) through which we pass values to a function. These are optional\n",
    "\n",
    "A colon(:) to mark the end of funciton header\n",
    "\n",
    "Doc string describe what the function does. This is optional\n",
    "\n",
    "\"return\" statement to return a value from the function. This is optional"
   ]
  },
  {
   "cell_type": "raw",
   "metadata": {},
   "source": [
    "syntax:\n",
    "    def function name(paramter list/ formal parameter):  ## function definition\n",
    "        '''\n",
    "        # called doc string it will help what is the function we are writing it will shown to user when he see the function\n",
    "        '''\n",
    "        stmt  ## body of the function\n",
    "    \n",
    "    function name(Actual paramaeters)  ## function call"
   ]
  },
  {
   "cell_type": "code",
   "execution_count": 2,
   "metadata": {},
   "outputs": [],
   "source": [
    "#create a function with name fun_name and pass student name here stdname is student name, then print the stdname before message as hai\n",
    "def fun_name(stdname):\n",
    "    ''' \n",
    "    function print along with hai the parameter we are passing \n",
    "    '''\n",
    "    print(\" hai \"+str(stdname))"
   ]
  },
  {
   "cell_type": "code",
   "execution_count": 3,
   "metadata": {},
   "outputs": [
    {
     "name": "stdout",
     "output_type": "stream",
     "text": [
      " hai Buddha Reddy\n"
     ]
    }
   ],
   "source": [
    "#we created the function defintion above it take one argument as input\n",
    "fun_name(\"Buddha Reddy\")"
   ]
  },
  {
   "cell_type": "code",
   "execution_count": 4,
   "metadata": {},
   "outputs": [
    {
     "name": "stdout",
     "output_type": "stream",
     "text": [
      " \n",
      "    function print along with hai the parameter we are passing \n",
      "    \n"
     ]
    }
   ],
   "source": [
    "#print the doc string   here we use .__doc__ along with function name \n",
    "print(fun_name.__doc__)"
   ]
  },
  {
   "cell_type": "raw",
   "metadata": {},
   "source": [
    "#return\n",
    "The return statement is used to exit a function and go back to the place from where it was called.\n",
    "sytax:\n",
    "    return[expression]\n",
    "\n",
    "return statement can contain an expression which gets evaluated and the value is returned.\n",
    "\n",
    "if there is no expression in the statement or the return statement itself is not present inside a function, then the function will return None Object"
   ]
  },
  {
   "cell_type": "code",
   "execution_count": 5,
   "metadata": {},
   "outputs": [
    {
     "name": "stdout",
     "output_type": "stream",
     "text": [
      "enter number9\n",
      "enter number8\n",
      "17\n"
     ]
    }
   ],
   "source": [
    "## write a python program to add two numbers\n",
    "a= int(input('enter number'))\n",
    "b= int(input('enter number'))\n",
    "c=a+b\n",
    "print(c)"
   ]
  },
  {
   "cell_type": "code",
   "execution_count": 6,
   "metadata": {},
   "outputs": [
    {
     "data": {
      "text/plain": [
       "3"
      ]
     },
     "execution_count": 6,
     "metadata": {},
     "output_type": "execute_result"
    }
   ],
   "source": [
    "#using function adding two numbers\n",
    "def add2numbers(num1,num2):\n",
    "    return num1+num2\n",
    "add2numbers(1,2)"
   ]
  },
  {
   "cell_type": "code",
   "execution_count": 7,
   "metadata": {},
   "outputs": [
    {
     "data": {
      "text/plain": [
       "30"
      ]
     },
     "execution_count": 7,
     "metadata": {},
     "output_type": "execute_result"
    }
   ],
   "source": [
    "## write a python function to find the maximum value of two given values\n",
    "def maxof(x,y):\n",
    "    if x>y:\n",
    "        return x\n",
    "    else:\n",
    "        return y\n",
    "maxof(30,4)"
   ]
  },
  {
   "cell_type": "code",
   "execution_count": 8,
   "metadata": {},
   "outputs": [],
   "source": [
    "def add_list(lst):\n",
    "    sum1 =0\n",
    "    for i in lst:\n",
    "        print(i)\n",
    "        sum1=sum1+int(i)\n",
    "    return sum1"
   ]
  },
  {
   "cell_type": "code",
   "execution_count": 9,
   "metadata": {},
   "outputs": [
    {
     "name": "stdout",
     "output_type": "stream",
     "text": [
      "1\n",
      "2\n",
      "3\n",
      "4\n",
      "5\n",
      "6\n"
     ]
    },
    {
     "data": {
      "text/plain": [
       "21"
      ]
     },
     "execution_count": 9,
     "metadata": {},
     "output_type": "execute_result"
    }
   ],
   "source": [
    "add_list([1,2,3,4,5,6])"
   ]
  },
  {
   "cell_type": "code",
   "execution_count": 13,
   "metadata": {},
   "outputs": [
    {
     "name": "stdout",
     "output_type": "stream",
     "text": [
      "Enter the list5\n"
     ]
    }
   ],
   "source": [
    "input_num=list(input(\"Enter the list\"))"
   ]
  },
  {
   "cell_type": "code",
   "execution_count": 14,
   "metadata": {},
   "outputs": [
    {
     "data": {
      "text/plain": [
       "['5']"
      ]
     },
     "execution_count": 14,
     "metadata": {},
     "output_type": "execute_result"
    }
   ],
   "source": [
    "input_num"
   ]
  },
  {
   "cell_type": "code",
   "execution_count": 15,
   "metadata": {},
   "outputs": [
    {
     "name": "stdout",
     "output_type": "stream",
     "text": [
      "5\n"
     ]
    },
    {
     "data": {
      "text/plain": [
       "5"
      ]
     },
     "execution_count": 15,
     "metadata": {},
     "output_type": "execute_result"
    }
   ],
   "source": [
    "add_list(input_num)"
   ]
  },
  {
   "cell_type": "markdown",
   "metadata": {},
   "source": [
    "# Scope and Lifetime"
   ]
  },
  {
   "cell_type": "raw",
   "metadata": {},
   "source": [
    "Scope of a variable is the portion of a program where the variable is recognized\n",
    "variables defined inside a function is not visible from outside. Hence, they have a local scope.\n",
    "Lifetime of a variable is the period throughout which the variable exits in the memory. \n",
    "The lifetime of variables inside a function is as long as the function executes.\n",
    "Variables are destroyed once we return from the function. "
   ]
  },
  {
   "cell_type": "code",
   "execution_count": null,
   "metadata": {},
   "outputs": [],
   "source": [
    "#To improve skills \n",
    "## write a function to check given number even or odd\n",
    "## positive or negative\n",
    "## if the given the number is divisble by 10 or not"
   ]
  },
  {
   "cell_type": "markdown",
   "metadata": {},
   "source": [
    "# Bulit in functions"
   ]
  },
  {
   "cell_type": "code",
   "execution_count": 16,
   "metadata": {},
   "outputs": [
    {
     "data": {
      "text/plain": [
       "100"
      ]
     },
     "execution_count": 16,
     "metadata": {},
     "output_type": "execute_result"
    }
   ],
   "source": [
    "#abs()\n",
    "num=-100\n",
    "abs(num)"
   ]
  },
  {
   "cell_type": "code",
   "execution_count": 22,
   "metadata": {},
   "outputs": [
    {
     "name": "stdout",
     "output_type": "stream",
     "text": [
      "True False True False\n"
     ]
    }
   ],
   "source": [
    "#all() -- it returns true if all elements(Iterable elements) are nonzero\n",
    "a=(1,2,3,4)\n",
    "a1=(0,1,23)\n",
    "b=[1,2,-3]\n",
    "b1=(0,1,-1)\n",
    "print(all(a),all(a1),all(b),all(b1))\n"
   ]
  },
  {
   "cell_type": "code",
   "execution_count": 23,
   "metadata": {},
   "outputs": [
    {
     "data": {
      "text/plain": [
       "['__add__',\n",
       " '__class__',\n",
       " '__class_getitem__',\n",
       " '__contains__',\n",
       " '__delattr__',\n",
       " '__delitem__',\n",
       " '__dir__',\n",
       " '__doc__',\n",
       " '__eq__',\n",
       " '__format__',\n",
       " '__ge__',\n",
       " '__getattribute__',\n",
       " '__getitem__',\n",
       " '__gt__',\n",
       " '__hash__',\n",
       " '__iadd__',\n",
       " '__imul__',\n",
       " '__init__',\n",
       " '__init_subclass__',\n",
       " '__iter__',\n",
       " '__le__',\n",
       " '__len__',\n",
       " '__lt__',\n",
       " '__mul__',\n",
       " '__ne__',\n",
       " '__new__',\n",
       " '__reduce__',\n",
       " '__reduce_ex__',\n",
       " '__repr__',\n",
       " '__reversed__',\n",
       " '__rmul__',\n",
       " '__setattr__',\n",
       " '__setitem__',\n",
       " '__sizeof__',\n",
       " '__str__',\n",
       " '__subclasshook__',\n",
       " 'append',\n",
       " 'clear',\n",
       " 'copy',\n",
       " 'count',\n",
       " 'extend',\n",
       " 'index',\n",
       " 'insert',\n",
       " 'pop',\n",
       " 'remove',\n",
       " 'reverse',\n",
       " 'sort']"
      ]
     },
     "execution_count": 23,
     "metadata": {},
     "output_type": "execute_result"
    }
   ],
   "source": [
    "#dir()(-- returns a list of valid attributes for the object\n",
    "a=[1,2,3,4]\n",
    "dir(a)"
   ]
  },
  {
   "cell_type": "code",
   "execution_count": 27,
   "metadata": {},
   "outputs": [
    {
     "data": {
      "text/plain": [
       "(1, 0)"
      ]
     },
     "execution_count": 27,
     "metadata": {},
     "output_type": "execute_result"
    }
   ],
   "source": [
    "#divmod()-- take two numbers a input and returns two numbers(quoitent and remainder)\n",
    "\n",
    "divmod(2,2)"
   ]
  },
  {
   "cell_type": "code",
   "execution_count": 30,
   "metadata": {},
   "outputs": [
    {
     "name": "stdout",
     "output_type": "stream",
     "text": [
      "[(0, 1), (1, 2), (2, 3)]\n"
     ]
    }
   ],
   "source": [
    "#enumerate-- it will work on iterable objects. the output is index  and value. default index start at 0 we can specfiy manually also\n",
    "a=[1,2,3]\n",
    "print(list(enumerate(a)))"
   ]
  },
  {
   "cell_type": "code",
   "execution_count": 31,
   "metadata": {},
   "outputs": [
    {
     "name": "stdout",
     "output_type": "stream",
     "text": [
      "[(5, 1), (6, 2), (7, 3)]\n"
     ]
    }
   ],
   "source": [
    "print(list(enumerate(a,5))) #index staring at 5"
   ]
  },
  {
   "cell_type": "code",
   "execution_count": 33,
   "metadata": {},
   "outputs": [
    {
     "name": "stdout",
     "output_type": "stream",
     "text": [
      "(0, 1)\n",
      "(1, 2)\n",
      "(2, 3)\n"
     ]
    }
   ],
   "source": [
    "for index, value in enumerate(a):\n",
    "    print((index,value))"
   ]
  },
  {
   "cell_type": "markdown",
   "metadata": {},
   "source": [
    "# format fucntions "
   ]
  },
  {
   "cell_type": "code",
   "execution_count": null,
   "metadata": {},
   "outputs": [],
   "source": [
    "print(\"this is buddha reddy\")"
   ]
  },
  {
   "cell_type": "code",
   "execution_count": null,
   "metadata": {},
   "outputs": [],
   "source": [
    "print(\"this is  {} and working as   {}\".format('buddhareddy','data scientist'))"
   ]
  },
  {
   "cell_type": "code",
   "execution_count": null,
   "metadata": {},
   "outputs": [],
   "source": [
    "print(\"this is  {0} and working as   {2}\".format('buddhareddy','data scientist','reddy'))"
   ]
  },
  {
   "cell_type": "code",
   "execution_count": null,
   "metadata": {},
   "outputs": [],
   "source": [
    "print(\"this is  {1} and working as   {0}\".format('buddhareddy','data scientist'))"
   ]
  },
  {
   "cell_type": "code",
   "execution_count": null,
   "metadata": {},
   "outputs": [],
   "source": [
    "print(\"this is  {1} and working as   {1}\".format('buddhareddy','data scientist'))"
   ]
  },
  {
   "cell_type": "code",
   "execution_count": null,
   "metadata": {},
   "outputs": [],
   "source": [
    "print(\"we eat {} times per {}\".format(3,'day'))"
   ]
  },
  {
   "cell_type": "markdown",
   "metadata": {},
   "source": [
    "# display squares and cubes for given numbers traditional way"
   ]
  },
  {
   "cell_type": "code",
   "execution_count": null,
   "metadata": {},
   "outputs": [],
   "source": [
    "print('actual  squared   cubevalue')\n",
    "for i in range(1,11):\n",
    "    print(i,\"      \",i * i, \"       \", i*i*i)"
   ]
  },
  {
   "cell_type": "markdown",
   "metadata": {},
   "source": [
    "# using format function"
   ]
  },
  {
   "cell_type": "code",
   "execution_count": null,
   "metadata": {},
   "outputs": [],
   "source": [
    "print('actual     squared         cubevalue')\n",
    "for i in range(1,11):\n",
    "    \n",
    "    print(\"{:4d} {:12d} {:12d}\".format(i,i*i,i*i*i))"
   ]
  },
  {
   "cell_type": "markdown",
   "metadata": {},
   "source": [
    "# fomat function with dictionary"
   ]
  },
  {
   "cell_type": "code",
   "execution_count": null,
   "metadata": {},
   "outputs": [],
   "source": [
    "persons={'name':'sai',\"age\":29}\n",
    "persons"
   ]
  },
  {
   "cell_type": "code",
   "execution_count": null,
   "metadata": {},
   "outputs": [],
   "source": [
    "## traditional way\n",
    "print(\"my name is \" , persons['name'], \"and  i am \" , persons['age'] , \"years old\")"
   ]
  },
  {
   "cell_type": "code",
   "execution_count": null,
   "metadata": {},
   "outputs": [],
   "source": [
    "## by using format functions\n",
    "print(\"my name is {} and i am {} years old\".format(persons['name'],persons['age']))"
   ]
  },
  {
   "cell_type": "markdown",
   "metadata": {},
   "source": [
    "# format function with list"
   ]
  },
  {
   "cell_type": "code",
   "execution_count": null,
   "metadata": {},
   "outputs": [],
   "source": [
    "li=['python','developer',3]\n",
    "li1=['reddy']\n",
    "print('i love {1[0]} and i am {0[1]} of python too with an experience of {0[2]}'.format(li,li1))"
   ]
  },
  {
   "cell_type": "code",
   "execution_count": null,
   "metadata": {},
   "outputs": [],
   "source": [
    "### adding formatting to the placeholder"
   ]
  },
  {
   "cell_type": "code",
   "execution_count": null,
   "metadata": {},
   "outputs": [],
   "source": [
    "for i in range(1,5):\n",
    "    message=\"the current value is  {:04}\".format(i)\n",
    "    print(message)"
   ]
  },
  {
   "cell_type": "code",
   "execution_count": null,
   "metadata": {},
   "outputs": [],
   "source": [
    "#format date\n",
    "import datetime\n",
    "mydate=datetime.datetime(2017,10,16,23,20,44)\n",
    "sentnce=\"{:%B %d %y}\".format(mydate)\n",
    "print(sentnce)"
   ]
  },
  {
   "cell_type": "markdown",
   "metadata": {},
   "source": [
    "# lambda fucntions"
   ]
  },
  {
   "cell_type": "code",
   "execution_count": null,
   "metadata": {},
   "outputs": [],
   "source": [
    "## is a small function with out name\n",
    "## syntax:  lambda argument_list :expression"
   ]
  },
  {
   "cell_type": "code",
   "execution_count": null,
   "metadata": {},
   "outputs": [],
   "source": [
    "def gl(x,y):\n",
    "    if(x>y):\n",
    "        print(x)\n",
    "    else:\n",
    "        print(y)\n",
    "gl(20,5)"
   ]
  },
  {
   "cell_type": "code",
   "execution_count": null,
   "metadata": {},
   "outputs": [],
   "source": [
    "a=lambda x,y: x if x>y else y\n",
    "a(20,5)"
   ]
  },
  {
   "cell_type": "code",
   "execution_count": null,
   "metadata": {},
   "outputs": [],
   "source": [
    "## addition of two numbers using fucntions\n",
    "def addoftwonumbers(x,y):\n",
    "    return x+y\n",
    "print(addoftwonumbers(10,20))"
   ]
  },
  {
   "cell_type": "code",
   "execution_count": null,
   "metadata": {},
   "outputs": [],
   "source": [
    "a=lambda x,y : x+y\n",
    "a(10,20)"
   ]
  },
  {
   "cell_type": "code",
   "execution_count": null,
   "metadata": {},
   "outputs": [],
   "source": [
    "# Write a function  to calucalte square for given number\n",
    "a=lambda x:x*x\n",
    "a(10)"
   ]
  },
  {
   "cell_type": "code",
   "execution_count": null,
   "metadata": {},
   "outputs": [],
   "source": [
    "##filter -- it takes two argumnets first one is fucntion second is list of arguments(returned true only shown in output)\n",
    "abc=list(range(1,21))\n",
    "odd_num=list(filter(lambda x:(x%2==1),abc))\n",
    "odd_num"
   ]
  },
  {
   "cell_type": "code",
   "execution_count": 36,
   "metadata": {},
   "outputs": [
    {
     "data": {
      "text/plain": [
       "[7, 9, 11, 13]"
      ]
     },
     "execution_count": 36,
     "metadata": {},
     "output_type": "execute_result"
    }
   ],
   "source": [
    "# map() -- two arguments one is fucntion second is sequence like list \n",
    "#  (applies a function to all the items in an input list passed result the list)\n",
    "a=[1,2,3,4]\n",
    "b=[6,7,8,9]\n",
    "c=[10,11,12,13]\n",
    "list(map(lambda x,y:x+y, a,b))"
   ]
  },
  {
   "cell_type": "code",
   "execution_count": 37,
   "metadata": {},
   "outputs": [
    {
     "data": {
      "text/plain": [
       "[17, 20, 23, 26]"
      ]
     },
     "execution_count": 37,
     "metadata": {},
     "output_type": "execute_result"
    }
   ],
   "source": [
    "list(map(lambda x,y,z:x+y+z, a,b,c))"
   ]
  },
  {
   "cell_type": "code",
   "execution_count": 39,
   "metadata": {},
   "outputs": [
    {
     "name": "stdout",
     "output_type": "stream",
     "text": [
      "4\n"
     ]
    }
   ],
   "source": [
    "## reduce fucntion-- this function continuously applies the function fun() to the sequence seq  and returns a single value\n",
    "## syntax: reduce(function, seq)\n",
    "from functools import reduce \n",
    "a=[1,2,3,4]\n",
    "d=reduce(lambda x,y: x if x>y else y, a )\n",
    "print(d)"
   ]
  },
  {
   "cell_type": "code",
   "execution_count": 40,
   "metadata": {},
   "outputs": [
    {
     "name": "stdout",
     "output_type": "stream",
     "text": [
      "4\n"
     ]
    }
   ],
   "source": [
    "def great(x,y):\n",
    "    if x>y:\n",
    "        return x\n",
    "    else:\n",
    "        return y\n",
    "from functools import reduce \n",
    "a=[1,2,3,4]\n",
    "d=reduce(great, a )\n",
    "print(d)"
   ]
  },
  {
   "cell_type": "code",
   "execution_count": 35,
   "metadata": {},
   "outputs": [
    {
     "name": "stdout",
     "output_type": "stream",
     "text": [
      "True\n",
      "True\n",
      "False\n"
     ]
    }
   ],
   "source": [
    "#  isininstance() --   if the object (first argument) is an instance or subclass or class info class \n",
    "#  isinstance(object,classinfo)\n",
    "lst=[1,2,3,4]\n",
    "print(isinstance(lst,list))\n",
    "lst=(1,2,3,4)\n",
    "print(isinstance(lst,tuple))\n",
    "lst=(1,2,3,4)\n",
    "print(isinstance(lst,list))\n"
   ]
  },
  {
   "cell_type": "code",
   "execution_count": null,
   "metadata": {},
   "outputs": [],
   "source": [
    "Argument types\n",
    "1. default argument\n",
    "2. keyword argument\n",
    "3. "
   ]
  },
  {
   "cell_type": "markdown",
   "metadata": {},
   "source": [
    "# Default Argument :\n",
    "    assume if a value is not provided by the actual parameters in function call\n",
    "    "
   ]
  },
  {
   "cell_type": "raw",
   "metadata": {},
   "source": [
    "def function_name(non_default_argument,default_argument=''):\n",
    "    print(non_default_argument+default_argument)"
   ]
  },
  {
   "cell_type": "code",
   "execution_count": 43,
   "metadata": {},
   "outputs": [
    {
     "name": "stdout",
     "output_type": "stream",
     "text": [
      "buddha\twelcome\n"
     ]
    }
   ],
   "source": [
    "def abc(name, message=\"welcome\"):\n",
    "    print(name +\"\\t\" + message)\n",
    "abc(\"buddha\")"
   ]
  },
  {
   "cell_type": "markdown",
   "metadata": {},
   "source": [
    "# keyword Argument :\n",
    "    if we use any variable name or formal arguments in function call for the purpose of assigning arguments"
   ]
  },
  {
   "cell_type": "code",
   "execution_count": 44,
   "metadata": {},
   "outputs": [
    {
     "name": "stdout",
     "output_type": "stream",
     "text": [
      "hi\n",
      "hi\n",
      "hi\n",
      "hi\n",
      "hi\n"
     ]
    }
   ],
   "source": [
    "def abcd(a,message,n):\n",
    "    for i in range(n):\n",
    "        print(message)\n",
    "abcd(10,n=5,message=\"hi\")\n",
    "\n",
    "# keyword args are again two types -- fixed length keyword (function call and and defintion the count is same) and fixed length non key word "
   ]
  },
  {
   "cell_type": "raw",
   "metadata": {},
   "source": [
    "# args    --  variable length non-keyword args\n",
    "# kwargs  --  variable length keyword args"
   ]
  },
  {
   "cell_type": "code",
   "execution_count": 3,
   "metadata": {},
   "outputs": [
    {
     "name": "stdout",
     "output_type": "stream",
     "text": [
      "1 5 {'profession': 'datascientist', 'age': 31, 'z': 'buddha'}\n"
     ]
    }
   ],
   "source": [
    "def abcd(a,b,**c):\n",
    "    print(a,b,c)\n",
    "abcd(1,5,profession=\"datascientist\",age=31,z=\"buddha\")"
   ]
  },
  {
   "cell_type": "code",
   "execution_count": 7,
   "metadata": {},
   "outputs": [
    {
     "name": "stdout",
     "output_type": "stream",
     "text": [
      "1 5 {'d': (10, 20, 30)}\n"
     ]
    }
   ],
   "source": [
    "def abcd(a,b,**c):\n",
    "    print(a,b,c)\n",
    "abcd(1,5,d=(10,20,30))"
   ]
  },
  {
   "cell_type": "code",
   "execution_count": 16,
   "metadata": {},
   "outputs": [
    {
     "name": "stdout",
     "output_type": "stream",
     "text": [
      "1 30 () {'d': 40}\n"
     ]
    }
   ],
   "source": [
    "def abcd(a,b=10,*c,**d):\n",
    "    print(a,b,c,d)\n",
    "abcd(1,30,d=40)"
   ]
  },
  {
   "cell_type": "code",
   "execution_count": null,
   "metadata": {},
   "outputs": [],
   "source": []
  }
 ],
 "metadata": {
  "kernelspec": {
   "display_name": "Python 3 (ipykernel)",
   "language": "python",
   "name": "python3"
  },
  "language_info": {
   "codemirror_mode": {
    "name": "ipython",
    "version": 3
   },
   "file_extension": ".py",
   "mimetype": "text/x-python",
   "name": "python",
   "nbconvert_exporter": "python",
   "pygments_lexer": "ipython3",
   "version": "3.9.12"
  }
 },
 "nbformat": 4,
 "nbformat_minor": 2
}
